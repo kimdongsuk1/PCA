{
 "cells": [
  {
   "cell_type": "code",
   "execution_count": 1,
   "metadata": {},
   "outputs": [],
   "source": [
    "import numpy as np"
   ]
  },
  {
   "cell_type": "code",
   "execution_count": 2,
   "metadata": {},
   "outputs": [],
   "source": [
    "\n",
    "from matplotlib import pyplot as plt"
   ]
  },
  {
   "cell_type": "code",
   "execution_count": 3,
   "metadata": {},
   "outputs": [],
   "source": [
    "A= 20256 % 8"
   ]
  },
  {
   "cell_type": "code",
   "execution_count": 4,
   "metadata": {},
   "outputs": [
    {
     "data": {
      "text/plain": [
       "0"
      ]
     },
     "execution_count": 4,
     "metadata": {},
     "output_type": "execute_result"
    }
   ],
   "source": [
    "A"
   ]
  },
  {
   "cell_type": "code",
   "execution_count": 5,
   "metadata": {},
   "outputs": [],
   "source": [
    "image_size = 28"
   ]
  },
  {
   "cell_type": "code",
   "execution_count": 6,
   "metadata": {},
   "outputs": [],
   "source": [
    "\n",
    "intType = np.dtype( 'int32' ).newbyteorder( '>' )\n",
    "nMetaDataBytes = 4 * intType.itemsize"
   ]
  },
  {
   "cell_type": "code",
   "execution_count": 7,
   "metadata": {},
   "outputs": [],
   "source": [
    "def loadMNIST( prefix ):\n",
    "    intType = np.dtype( 'int32' ).newbyteorder( '>' )\n",
    "    nMetaDataBytes = 4 * intType.itemsize\n",
    "\n",
    "    data = np.fromfile(  prefix + '-images.idx3-ubyte', dtype = 'ubyte' )\n",
    "    magicBytes, nImages, width, height = np.frombuffer( data[:nMetaDataBytes].tobytes(), intType )\n",
    "    data = data[nMetaDataBytes:].astype( dtype = 'float32' ).reshape( [ nImages, width, height ] )\n",
    "\n",
    "    labels = np.fromfile( prefix + '-labels.idx1-ubyte',\n",
    "                          dtype = 'ubyte' )[2 * intType.itemsize:]\n",
    "\n",
    "    return data, labels\n",
    "\n",
    "trainingImages, trainingLabels = loadMNIST( \"train\" )"
   ]
  },
  {
   "cell_type": "code",
   "execution_count": 8,
   "metadata": {},
   "outputs": [
    {
     "data": {
      "text/plain": [
       "(60000, 28, 28)"
      ]
     },
     "execution_count": 8,
     "metadata": {},
     "output_type": "execute_result"
    }
   ],
   "source": [
    "np.shape(trainingImages)"
   ]
  },
  {
   "cell_type": "code",
   "execution_count": 9,
   "metadata": {},
   "outputs": [
    {
     "data": {
      "text/plain": [
       "60000"
      ]
     },
     "execution_count": 9,
     "metadata": {},
     "output_type": "execute_result"
    }
   ],
   "source": [
    "len(trainingLabels)"
   ]
  },
  {
   "cell_type": "code",
   "execution_count": 10,
   "metadata": {},
   "outputs": [
    {
     "data": {
      "text/plain": [
       "5"
      ]
     },
     "execution_count": 10,
     "metadata": {},
     "output_type": "execute_result"
    }
   ],
   "source": [
    "trainingLabels[0]"
   ]
  },
  {
   "cell_type": "code",
   "execution_count": 11,
   "metadata": {},
   "outputs": [],
   "source": [
    "\n",
    "import numpy as np\n"
   ]
  },
  {
   "cell_type": "code",
   "execution_count": 12,
   "metadata": {},
   "outputs": [],
   "source": [
    "\n",
    "data = trainingImages.reshape(60000, image_size*image_size)"
   ]
  },
  {
   "cell_type": "code",
   "execution_count": 13,
   "metadata": {},
   "outputs": [
    {
     "data": {
      "image/png": "[encoded data removed]",
      "text/plain": [
       "<Figure size 432x288 with 1 Axes>"
      ]
     },
     "metadata": {
      "needs_background": "light"
     },
     "output_type": "display_data"
    }
   ],
   "source": [
    "\n",
    "img1_2d = np.reshape(data[6,:], (28, 28))\n",
    "# show it\n",
    "plt.imshow(img1_2d, cmap=plt.get_cmap('gray'))\n",
    "plt.show()"
   ]
  },
  {
   "cell_type": "code",
   "execution_count": 15,
   "metadata": {},
   "outputs": [],
   "source": [
    "datalabel = trainingLabels.reshape(len(trainingLabels))"
   ]
  },
  {
   "cell_type": "code",
   "execution_count": 16,
   "metadata": {},
   "outputs": [],
   "source": [
    "trainlabel=[]\n",
    "for i in range(len(datalabel)):\n",
    "    if datalabel[i] == 9:\n",
    "        trainlabel.append(i)"
   ]
  },
  {
   "cell_type": "code",
   "execution_count": 17,
   "metadata": {},
   "outputs": [
    {
     "data": {
      "text/plain": [
       "(60000,)"
      ]
     },
     "execution_count": 17,
     "metadata": {},
     "output_type": "execute_result"
    }
   ],
   "source": [
    "np.shape(datalabel)"
   ]
  },
  {
   "cell_type": "code",
   "execution_count": 18,
   "metadata": {},
   "outputs": [],
   "source": [
    "traindata=np.array([])"
   ]
  },
  {
   "cell_type": "code",
   "execution_count": 19,
   "metadata": {},
   "outputs": [],
   "source": [
    "for i in range(60000):\n",
    "    if datalabel[i] == 9:\n",
    "        traindata=np.append(traindata, data[i,:])"
   ]
  },
  {
   "cell_type": "code",
   "execution_count": 20,
   "metadata": {},
   "outputs": [
    {
     "data": {
      "text/plain": [
       "(4664016,)"
      ]
     },
     "execution_count": 20,
     "metadata": {},
     "output_type": "execute_result"
    }
   ],
   "source": [
    "np.shape(traindata)"
   ]
  },
  {
   "cell_type": "code",
   "execution_count": 21,
   "metadata": {},
   "outputs": [],
   "source": [
    "traindata=traindata.reshape(len(trainlabel),image_size*image_size)"
   ]
  },
  {
   "cell_type": "code",
   "execution_count": 22,
   "metadata": {},
   "outputs": [],
   "source": [
    "mean = np.array([])"
   ]
  },
  {
   "cell_type": "code",
   "execution_count": 23,
   "metadata": {},
   "outputs": [],
   "source": [
    "for i in range(image_size*image_size):\n",
    "    mean=np.append(mean,[np.mean(traindata[:,i])])"
   ]
  },
  {
   "cell_type": "code",
   "execution_count": 24,
   "metadata": {},
   "outputs": [],
   "source": [
    "mean=mean.reshape(image_size*image_size,1)"
   ]
  },
  {
   "cell_type": "code",
   "execution_count": 25,
   "metadata": {},
   "outputs": [],
   "source": [
    "##different method for variance(up to multiplication)\n",
    "\n",
    "variance = np.zeros((image_size*image_size,image_size*image_size))\n",
    "for i in range(len(trainlabel)):\n",
    "    variance += (traindata[i,:].reshape(image_size*image_size,1) - mean).dot((traindata[i,:].reshape(image_size*image_size,1) - mean).T)"
   ]
  },
  {
   "cell_type": "code",
   "execution_count": 26,
   "metadata": {},
   "outputs": [],
   "source": [
    "variance= 1/60000*variance"
   ]
  },
  {
   "cell_type": "code",
   "execution_count": 27,
   "metadata": {},
   "outputs": [],
   "source": [
    "eigval, eigvec = np.linalg.eig(variance)\n"
   ]
  },
  {
   "cell_type": "code",
   "execution_count": 28,
   "metadata": {},
   "outputs": [
    {
     "data": {
      "text/plain": [
       "(784, 784)"
      ]
     },
     "execution_count": 28,
     "metadata": {},
     "output_type": "execute_result"
    }
   ],
   "source": [
    "np.shape(eigvec)"
   ]
  },
  {
   "cell_type": "code",
   "execution_count": 29,
   "metadata": {},
   "outputs": [
    {
     "data": {
      "text/plain": [
       "(39986.40576927838+0j)"
      ]
     },
     "execution_count": 29,
     "metadata": {},
     "output_type": "execute_result"
    }
   ],
   "source": [
    "eigval[0]"
   ]
  },
  {
   "cell_type": "code",
   "execution_count": 30,
   "metadata": {},
   "outputs": [
    {
     "data": {
      "text/plain": [
       "(39986.40576927838+0j)"
      ]
     },
     "execution_count": 30,
     "metadata": {},
     "output_type": "execute_result"
    }
   ],
   "source": [
    "eigval[0]"
   ]
  },
  {
   "cell_type": "code",
   "execution_count": 31,
   "metadata": {},
   "outputs": [],
   "source": [
    "eig_pairs = [(np.abs(eigval[i]), eigvec[:,i]) for i in range(len(eigval))]\n",
    "\n",
    "eig_pairs.sort(key=lambda x: x[0], reverse=True)\n",
    "\n"
   ]
  },
  {
   "cell_type": "code",
   "execution_count": 32,
   "metadata": {},
   "outputs": [],
   "source": [
    "x=np.linspace(0,784,784)\n",
    "y=eigval.tolist()\n",
    "\n",
    "z =[]\n",
    "a=[eig_pairs[i][0] for i in range(image_size*image_size)]\n",
    "b= sum([eig_pairs[i][0] for i in range(image_size*image_size)])\n",
    "    "
   ]
  },
  {
   "cell_type": "code",
   "execution_count": 33,
   "metadata": {},
   "outputs": [],
   "source": [
    "\n",
    "for i in range(image_size*image_size):\n",
    "    z.append(sum(a[0:i]))"
   ]
  },
  {
   "cell_type": "code",
   "execution_count": 34,
   "metadata": {},
   "outputs": [
    {
     "name": "stderr",
     "output_type": "stream",
     "text": [
      "D:\\anaconda\\lib\\site-packages\\numpy\\core\\numeric.py:501: ComplexWarning: Casting complex values to real discards the imaginary part\n",
      "  return array(a, dtype, copy=False, order=order)\n"
     ]
    },
    {
     "data": {
      "image/png": "[encoded data removed]",
      "text/plain": [
       "<Figure size 432x288 with 1 Axes>"
      ]
     },
     "metadata": {
      "needs_background": "light"
     },
     "output_type": "display_data"
    }
   ],
   "source": [
    "\n",
    "plt.plot(x, y , color='blue',label='class_9')\n",
    "plt.xlabel('number')\n",
    "plt.ylabel('eigen_val')\n",
    "plt.legend()\n",
    "\n",
    "plt.show()\n"
   ]
  },
  {
   "cell_type": "code",
   "execution_count": 35,
   "metadata": {},
   "outputs": [
    {
     "data": {
      "image/png": "[encoded data removed]",
      "text/plain": [
       "<Figure size 432x288 with 1 Axes>"
      ]
     },
     "metadata": {
      "needs_background": "light"
     },
     "output_type": "display_data"
    }
   ],
   "source": [
    "\n",
    "plt.plot(x, z , color='red',label='class_9')\n",
    "plt.xlabel('number')\n",
    "plt.ylabel('capture_val')\n",
    "plt.legend()\n",
    "\n",
    "plt.show()"
   ]
  },
  {
   "cell_type": "markdown",
   "metadata": {},
   "source": [
    "$\\Large projection\\ to\\ 2\\ dimensional\\ space.$"
   ]
  },
  {
   "cell_type": "code",
   "execution_count": 36,
   "metadata": {},
   "outputs": [],
   "source": [
    "W_j = np.hstack((eig_pairs[0][1].reshape(image_size*image_size,1), eig_pairs[1][1].reshape(image_size*image_size,1)))"
   ]
  },
  {
   "cell_type": "code",
   "execution_count": 37,
   "metadata": {},
   "outputs": [
    {
     "data": {
      "text/plain": [
       "array([ 0.00000000e+00+0.j,  0.00000000e+00+0.j,  0.00000000e+00+0.j,\n",
       "        0.00000000e+00+0.j,  0.00000000e+00+0.j,  0.00000000e+00+0.j,\n",
       "        0.00000000e+00+0.j,  0.00000000e+00+0.j,  0.00000000e+00+0.j,\n",
       "        0.00000000e+00+0.j,  0.00000000e+00+0.j,  0.00000000e+00+0.j,\n",
       "        0.00000000e+00+0.j,  0.00000000e+00+0.j,  0.00000000e+00+0.j,\n",
       "        0.00000000e+00+0.j,  0.00000000e+00+0.j,  0.00000000e+00+0.j,\n",
       "        0.00000000e+00+0.j,  0.00000000e+00+0.j,  0.00000000e+00+0.j,\n",
       "        0.00000000e+00+0.j,  0.00000000e+00+0.j,  0.00000000e+00+0.j,\n",
       "        0.00000000e+00+0.j,  0.00000000e+00+0.j,  0.00000000e+00+0.j,\n",
       "        0.00000000e+00+0.j,  0.00000000e+00+0.j,  0.00000000e+00+0.j,\n",
       "        0.00000000e+00+0.j,  0.00000000e+00+0.j,  0.00000000e+00+0.j,\n",
       "        0.00000000e+00+0.j,  0.00000000e+00+0.j,  0.00000000e+00+0.j,\n",
       "        0.00000000e+00+0.j,  0.00000000e+00+0.j,  0.00000000e+00+0.j,\n",
       "        0.00000000e+00+0.j,  0.00000000e+00+0.j,  0.00000000e+00+0.j,\n",
       "        0.00000000e+00+0.j,  0.00000000e+00+0.j,  0.00000000e+00+0.j,\n",
       "        0.00000000e+00+0.j,  0.00000000e+00+0.j,  0.00000000e+00+0.j,\n",
       "        0.00000000e+00+0.j,  0.00000000e+00+0.j,  0.00000000e+00+0.j,\n",
       "        0.00000000e+00+0.j,  0.00000000e+00+0.j,  0.00000000e+00+0.j,\n",
       "        0.00000000e+00+0.j,  0.00000000e+00+0.j,  0.00000000e+00+0.j,\n",
       "        0.00000000e+00+0.j,  0.00000000e+00+0.j,  0.00000000e+00+0.j,\n",
       "        0.00000000e+00+0.j,  0.00000000e+00+0.j,  0.00000000e+00+0.j,\n",
       "        0.00000000e+00+0.j,  0.00000000e+00+0.j,  0.00000000e+00+0.j,\n",
       "        0.00000000e+00+0.j,  0.00000000e+00+0.j,  0.00000000e+00+0.j,\n",
       "        0.00000000e+00+0.j,  0.00000000e+00+0.j,  0.00000000e+00+0.j,\n",
       "        0.00000000e+00+0.j,  0.00000000e+00+0.j,  0.00000000e+00+0.j,\n",
       "        0.00000000e+00+0.j,  0.00000000e+00+0.j,  0.00000000e+00+0.j,\n",
       "        0.00000000e+00+0.j,  0.00000000e+00+0.j,  0.00000000e+00+0.j,\n",
       "        0.00000000e+00+0.j,  0.00000000e+00+0.j,  0.00000000e+00+0.j,\n",
       "        0.00000000e+00+0.j,  0.00000000e+00+0.j,  0.00000000e+00+0.j,\n",
       "        0.00000000e+00+0.j,  0.00000000e+00+0.j,  0.00000000e+00+0.j,\n",
       "        0.00000000e+00+0.j,  0.00000000e+00+0.j,  0.00000000e+00+0.j,\n",
       "        0.00000000e+00+0.j,  0.00000000e+00+0.j,  0.00000000e+00+0.j,\n",
       "        0.00000000e+00+0.j,  0.00000000e+00+0.j,  0.00000000e+00+0.j,\n",
       "        0.00000000e+00+0.j,  0.00000000e+00+0.j, -8.20844364e-06+0.j,\n",
       "       -6.08171052e-05+0.j, -1.00739990e-05+0.j,  0.00000000e+00+0.j,\n",
       "        0.00000000e+00+0.j,  0.00000000e+00+0.j,  0.00000000e+00+0.j,\n",
       "        0.00000000e+00+0.j,  0.00000000e+00+0.j,  0.00000000e+00+0.j,\n",
       "        0.00000000e+00+0.j,  0.00000000e+00+0.j,  0.00000000e+00+0.j,\n",
       "        0.00000000e+00+0.j,  0.00000000e+00+0.j,  0.00000000e+00+0.j,\n",
       "        0.00000000e+00+0.j,  0.00000000e+00+0.j,  0.00000000e+00+0.j,\n",
       "        0.00000000e+00+0.j,  1.49322375e-06+0.j,  6.74955032e-05+0.j,\n",
       "       -8.39323600e-05+0.j, -2.30570820e-04+0.j, -2.42393701e-04+0.j,\n",
       "       -2.54330946e-04+0.j, -5.00125328e-05+0.j,  1.77359849e-04+0.j,\n",
       "        2.61603392e-04+0.j,  1.64073339e-04+0.j,  1.68950339e-04+0.j,\n",
       "        1.62423353e-04+0.j,  8.97808024e-06+0.j,  0.00000000e+00+0.j,\n",
       "        0.00000000e+00+0.j,  0.00000000e+00+0.j,  0.00000000e+00+0.j,\n",
       "        0.00000000e+00+0.j,  0.00000000e+00+0.j,  0.00000000e+00+0.j,\n",
       "        0.00000000e+00+0.j,  0.00000000e+00+0.j,  0.00000000e+00+0.j,\n",
       "        0.00000000e+00+0.j,  0.00000000e+00+0.j, -1.66749416e-06+0.j,\n",
       "        1.87429902e-05+0.j,  5.15031314e-05+0.j,  8.71035068e-05+0.j,\n",
       "        8.76443966e-05+0.j,  8.86860879e-05+0.j, -5.52675836e-04+0.j,\n",
       "       -2.41773238e-03+0.j, -2.62993389e-03+0.j,  1.43868340e-04+0.j,\n",
       "        4.59902744e-03+0.j,  8.08320302e-03+0.j,  8.16371525e-03+0.j,\n",
       "        5.65387888e-03+0.j,  3.46459253e-03+0.j,  1.85233866e-03+0.j,\n",
       "        6.56905944e-04+0.j,  3.48591036e-05+0.j,  0.00000000e+00+0.j,\n",
       "        0.00000000e+00+0.j,  0.00000000e+00+0.j,  0.00000000e+00+0.j,\n",
       "        0.00000000e+00+0.j,  0.00000000e+00+0.j,  0.00000000e+00+0.j,\n",
       "        0.00000000e+00+0.j,  6.66951674e-06+0.j,  2.60287805e-05+0.j,\n",
       "        3.32423322e-04+0.j,  7.02587669e-04+0.j,  1.47988430e-03+0.j,\n",
       "        2.96219224e-03+0.j,  2.05780121e-03+0.j, -7.25481177e-03+0.j,\n",
       "       -2.18800767e-02+0.j, -3.25026946e-02+0.j, -2.73463979e-02+0.j,\n",
       "       -1.47174617e-03+0.j,  3.74929085e-02+0.j,  7.11700961e-02+0.j,\n",
       "        8.40863568e-02+0.j,  6.85499698e-02+0.j,  4.27448574e-02+0.j,\n",
       "        2.00251773e-02+0.j,  6.78932261e-03+0.j,  1.61655488e-03+0.j,\n",
       "        2.15826491e-04+0.j,  5.81161676e-05+0.j,  0.00000000e+00+0.j,\n",
       "        0.00000000e+00+0.j,  0.00000000e+00+0.j,  0.00000000e+00+0.j,\n",
       "        0.00000000e+00+0.j,  3.10049978e-06+0.j,  1.26793327e-05+0.j,\n",
       "        3.23945425e-04+0.j,  1.61404335e-03+0.j,  4.69498009e-03+0.j,\n",
       "        8.53288030e-03+0.j,  6.87059828e-03+0.j, -5.71453518e-03+0.j,\n",
       "       -2.78571673e-02+0.j, -4.02238460e-02+0.j, -3.26447375e-02+0.j,\n",
       "       -1.16800294e-02+0.j,  1.18635101e-02+0.j,  4.00939437e-02+0.j,\n",
       "        8.24194788e-02+0.j,  1.18989710e-01+0.j,  1.19425547e-01+0.j,\n",
       "        8.86389581e-02+0.j,  4.88657178e-02+0.j,  1.86215207e-02+0.j,\n",
       "        5.81273629e-03+0.j,  1.23060085e-03+0.j,  1.29816167e-04+0.j,\n",
       "        0.00000000e+00+0.j,  0.00000000e+00+0.j,  0.00000000e+00+0.j,\n",
       "        0.00000000e+00+0.j,  1.70972347e-07+0.j,  7.09595570e-06+0.j,\n",
       "        3.12735042e-04+0.j,  1.85442097e-03+0.j,  6.92098431e-03+0.j,\n",
       "        1.37732269e-02+0.j,  1.55515638e-02+0.j,  7.50570991e-03+0.j,\n",
       "       -1.24139370e-02+0.j, -1.99878227e-02+0.j, -1.48218508e-03+0.j,\n",
       "        2.80382232e-02+0.j,  3.96859939e-02+0.j,  2.45604104e-02+0.j,\n",
       "        3.98424849e-03+0.j,  2.00670953e-02+0.j,  7.79381594e-02+0.j,\n",
       "        1.23605023e-01+0.j,  1.14981012e-01+0.j,  7.47056746e-02+0.j,\n",
       "        3.23736426e-02+0.j,  9.32400923e-03+0.j,  2.50868459e-03+0.j,\n",
       "        3.27945029e-04+0.j,  0.00000000e+00+0.j,  0.00000000e+00+0.j,\n",
       "        0.00000000e+00+0.j,  0.00000000e+00+0.j,  5.47111512e-06+0.j,\n",
       "        6.57927455e-05+0.j,  1.34323298e-03+0.j,  6.36188472e-03+0.j,\n",
       "        1.68322623e-02+0.j,  2.59374288e-02+0.j,  2.48570332e-02+0.j,\n",
       "        9.47641706e-03+0.j, -4.65384548e-03+0.j,  1.07414195e-02+0.j,\n",
       "        4.36299469e-02+0.j,  6.12668015e-02+0.j,  4.32576159e-02+0.j,\n",
       "       -3.47116435e-03+0.j, -5.25150752e-02+0.j, -5.34301188e-02+0.j,\n",
       "        2.26844301e-02+0.j,  1.08991126e-01+0.j,  1.26662396e-01+0.j,\n",
       "        8.80726909e-02+0.j,  3.99603020e-02+0.j,  1.19702528e-02+0.j,\n",
       "        2.63215603e-03+0.j,  3.38046304e-04+0.j,  0.00000000e+00+0.j,\n",
       "        0.00000000e+00+0.j,  0.00000000e+00+0.j,  0.00000000e+00+0.j,\n",
       "        3.11057293e-06+0.j,  3.38821487e-04+0.j,  4.24484622e-03+0.j,\n",
       "        1.49322652e-02+0.j,  3.03212435e-02+0.j,  3.98781865e-02+0.j,\n",
       "        3.26526463e-02+0.j,  1.16605193e-02+0.j,  3.16460503e-03+0.j,\n",
       "        2.41555217e-02+0.j,  4.42916776e-02+0.j,  3.65692425e-02+0.j,\n",
       "        5.99335895e-03+0.j, -4.42703921e-02+0.j, -9.77748074e-02+0.j,\n",
       "       -9.35785532e-02+0.j,  3.97303336e-03+0.j,  1.11417504e-01+0.j,\n",
       "        1.36626230e-01+0.j,  9.33441634e-02+0.j,  4.17959593e-02+0.j,\n",
       "        1.23310476e-02+0.j,  2.41978429e-03+0.j,  5.04087419e-04+0.j,\n",
       "       -4.75694380e-06+0.j,  0.00000000e+00+0.j,  0.00000000e+00+0.j,\n",
       "        0.00000000e+00+0.j,  4.36595308e-05+0.j,  1.11964310e-03+0.j,\n",
       "        8.25791333e-03+0.j,  2.45939928e-02+0.j,  4.47962551e-02+0.j,\n",
       "        5.58604682e-02+0.j,  3.75772960e-02+0.j,  6.40413922e-03+0.j,\n",
       "       -5.38345090e-03+0.j,  7.95355420e-03+0.j,  1.49509994e-02+0.j,\n",
       "        6.55668105e-04+0.j, -2.65085146e-02+0.j, -7.75007917e-02+0.j,\n",
       "       -1.22043094e-01+0.j, -9.09030412e-02+0.j,  2.64803022e-02+0.j,\n",
       "        1.35669651e-01+0.j,  1.47307359e-01+0.j,  8.96654867e-02+0.j,\n",
       "        3.73139007e-02+0.j,  1.01797855e-02+0.j,  1.44668440e-03+0.j,\n",
       "        2.32742771e-04+0.j, -1.06670861e-05+0.j,  0.00000000e+00+0.j,\n",
       "        0.00000000e+00+0.j,  0.00000000e+00+0.j,  1.42303228e-04+0.j,\n",
       "        2.72096183e-03+0.j,  1.31084514e-02+0.j,  3.31026535e-02+0.j,\n",
       "        5.97313079e-02+0.j,  7.15859170e-02+0.j,  3.87039026e-02+0.j,\n",
       "       -1.44137768e-02+0.j, -3.36411284e-02+0.j, -2.28023924e-02+0.j,\n",
       "       -1.86124185e-02+0.j, -3.25106014e-02+0.j, -6.19342018e-02+0.j,\n",
       "       -1.00916046e-01+0.j, -1.11708815e-01+0.j, -5.10275629e-02+0.j,\n",
       "        7.02055568e-02+0.j,  1.56056261e-01+0.j,  1.38272999e-01+0.j,\n",
       "        7.26235045e-02+0.j,  2.76676667e-02+0.j,  7.33841794e-03+0.j,\n",
       "        6.14692041e-04+0.j,  1.28921375e-05+0.j,  0.00000000e+00+0.j,\n",
       "        0.00000000e+00+0.j,  0.00000000e+00+0.j,  0.00000000e+00+0.j,\n",
       "        1.84864415e-04+0.j,  3.27760528e-03+0.j,  1.59707533e-02+0.j,\n",
       "        4.02507393e-02+0.j,  7.34843898e-02+0.j,  8.62246686e-02+0.j,\n",
       "        4.39891672e-02+0.j, -2.79197110e-02+0.j, -6.08309728e-02+0.j,\n",
       "       -5.63738863e-02+0.j, -5.42903127e-02+0.j, -6.32111183e-02+0.j,\n",
       "       -7.51815663e-02+0.j, -7.83993116e-02+0.j, -6.43265429e-02+0.j,\n",
       "       -2.99751839e-03+0.j,  1.05576845e-01+0.j,  1.55739855e-01+0.j,\n",
       "        1.12722094e-01+0.j,  5.04892041e-02+0.j,  1.68319500e-02+0.j,\n",
       "        4.32423213e-03+0.j,  2.99060732e-04+0.j,  1.14270203e-04+0.j,\n",
       "        2.91276989e-05+0.j,  0.00000000e+00+0.j,  0.00000000e+00+0.j,\n",
       "        0.00000000e+00+0.j,  1.26531751e-04+0.j,  3.13112613e-03+0.j,\n",
       "        1.66958630e-02+0.j,  4.18479405e-02+0.j,  7.83649246e-02+0.j,\n",
       "        9.84187912e-02+0.j,  6.33707536e-02+0.j, -9.43636008e-03+0.j,\n",
       "       -5.42606329e-02+0.j, -5.80032663e-02+0.j, -5.19654717e-02+0.j,\n",
       "       -4.39667970e-02+0.j, -2.58302679e-02+0.j, -1.69286222e-02+0.j,\n",
       "       -1.83864694e-02+0.j,  2.66932388e-02+0.j,  1.15664390e-01+0.j,\n",
       "        1.33342877e-01+0.j,  7.88796566e-02+0.j,  3.08729779e-02+0.j,\n",
       "        9.51272347e-03+0.j,  2.59954887e-03+0.j,  1.42647513e-04+0.j,\n",
       "        1.26593460e-04+0.j,  3.47291794e-05+0.j,  0.00000000e+00+0.j,\n",
       "        0.00000000e+00+0.j,  0.00000000e+00+0.j,  3.80628500e-05+0.j,\n",
       "        2.66446587e-03+0.j,  1.40030458e-02+0.j,  3.67216910e-02+0.j,\n",
       "        7.30829925e-02+0.j,  1.04411030e-01+0.j,  9.41544898e-02+0.j,\n",
       "        4.62968140e-02+0.j,  9.26210681e-03+0.j, -8.25130272e-05+0.j,\n",
       "        7.28885513e-03+0.j,  2.52187129e-02+0.j,  4.30233830e-02+0.j,\n",
       "        2.79078160e-02+0.j,  2.02249409e-03+0.j,  3.63048169e-02+0.j,\n",
       "        1.03318552e-01+0.j,  9.88924185e-02+0.j,  5.24095002e-02+0.j,\n",
       "        1.95444907e-02+0.j,  6.68890413e-03+0.j,  1.78305142e-03+0.j,\n",
       "        6.84069883e-05+0.j,  1.26593460e-04+0.j,  4.33802202e-05+0.j,\n",
       "        0.00000000e+00+0.j,  0.00000000e+00+0.j,  0.00000000e+00+0.j,\n",
       "        9.03186271e-06+0.j,  1.65411265e-03+0.j,  9.14098352e-03+0.j,\n",
       "        2.66563003e-02+0.j,  5.54666839e-02+0.j,  8.99515991e-02+0.j,\n",
       "        1.06830120e-01+0.j,  9.30424140e-02+0.j,  7.28977888e-02+0.j,\n",
       "        6.35840468e-02+0.j,  6.64621113e-02+0.j,  7.64947063e-02+0.j,\n",
       "        7.77242673e-02+0.j,  3.94833656e-02+0.j,  3.73139258e-03+0.j,\n",
       "        2.81905116e-02+0.j,  7.42088104e-02+0.j,  6.87044975e-02+0.j,\n",
       "        3.72959752e-02+0.j,  1.47522727e-02+0.j,  5.74551787e-03+0.j,\n",
       "        1.34456911e-03+0.j,  6.90760335e-05+0.j,  2.99034896e-05+0.j,\n",
       "        1.96051819e-05+0.j,  0.00000000e+00+0.j,  0.00000000e+00+0.j,\n",
       "        0.00000000e+00+0.j,  1.05708652e-05+0.j,  7.69020031e-04+0.j,\n",
       "        4.60808387e-03+0.j,  1.40830586e-02+0.j,  3.19434283e-02+0.j,\n",
       "        5.73983464e-02+0.j,  7.84000413e-02+0.j,  8.57442305e-02+0.j,\n",
       "        8.20387946e-02+0.j,  7.61139312e-02+0.j,  7.37518326e-02+0.j,\n",
       "        8.18881311e-02+0.j,  7.93028032e-02+0.j,  3.26589525e-02+0.j,\n",
       "       -1.06276989e-02+0.j,  6.64221531e-03+0.j,  4.78692873e-02+0.j,\n",
       "        5.19556405e-02+0.j,  3.14345027e-02+0.j,  1.29954656e-02+0.j,\n",
       "        4.62765989e-03+0.j,  1.35097290e-03+0.j,  1.20528466e-04+0.j,\n",
       "       -5.34750587e-06+0.j,  0.00000000e+00+0.j,  0.00000000e+00+0.j,\n",
       "       -3.10607597e-06+0.j,  0.00000000e+00+0.j,  2.44090888e-05+0.j,\n",
       "        4.75659496e-04+0.j,  2.48057505e-03+0.j,  6.51922374e-03+0.j,\n",
       "        1.47739980e-02+0.j,  2.60636025e-02+0.j,  3.83547836e-02+0.j,\n",
       "        4.71667189e-02+0.j,  5.04639216e-02+0.j,  5.15844528e-02+0.j,\n",
       "        5.81712968e-02+0.j,  7.85784902e-02+0.j,  7.10383868e-02+0.j,\n",
       "        1.39296150e-02+0.j, -3.32582910e-02+0.j, -1.63893810e-02+0.j,\n",
       "        3.16796233e-02+0.j,  4.35964733e-02+0.j,  2.84808215e-02+0.j,\n",
       "        1.22581970e-02+0.j,  4.32447301e-03+0.j,  1.44920660e-03+0.j,\n",
       "        1.50727010e-04+0.j,  1.76408767e-04+0.j,  0.00000000e+00+0.j,\n",
       "        0.00000000e+00+0.j,  0.00000000e+00+0.j,  0.00000000e+00+0.j,\n",
       "        0.00000000e+00+0.j,  3.59023274e-04+0.j,  9.30802953e-04+0.j,\n",
       "        2.70406659e-03+0.j,  6.00333049e-03+0.j,  9.61591269e-03+0.j,\n",
       "        1.43621033e-02+0.j,  1.87009588e-02+0.j,  2.30471364e-02+0.j,\n",
       "        3.26973238e-02+0.j,  5.63403074e-02+0.j,  7.89893080e-02+0.j,\n",
       "        5.70914586e-02+0.j, -1.27763235e-02+0.j, -5.60051338e-02+0.j,\n",
       "       -3.11917167e-02+0.j,  2.30703888e-02+0.j,  3.82541433e-02+0.j,\n",
       "        2.62958375e-02+0.j,  1.12903093e-02+0.j,  4.10760042e-03+0.j,\n",
       "        1.43241871e-03+0.j,  2.95705496e-04+0.j,  2.42523703e-04+0.j,\n",
       "        0.00000000e+00+0.j,  0.00000000e+00+0.j,  0.00000000e+00+0.j,\n",
       "        0.00000000e+00+0.j,  1.46655490e-05+0.j,  1.68029805e-04+0.j,\n",
       "        4.90103654e-04+0.j,  1.31669293e-03+0.j,  2.57795140e-03+0.j,\n",
       "        3.41924828e-03+0.j,  5.30192776e-03+0.j,  8.22635502e-03+0.j,\n",
       "        1.65253622e-02+0.j,  3.81994317e-02+0.j,  6.89849989e-02+0.j,\n",
       "        7.84703123e-02+0.j,  3.49095039e-02+0.j, -3.97784128e-02+0.j,\n",
       "       -7.18449716e-02+0.j, -3.45610948e-02+0.j,  1.83659797e-02+0.j,\n",
       "        3.44443797e-02+0.j,  2.43411996e-02+0.j,  1.15604518e-02+0.j,\n",
       "        4.35596118e-03+0.j,  1.53087805e-03+0.j,  4.94208571e-04+0.j,\n",
       "        2.60905620e-04+0.j,  0.00000000e+00+0.j,  0.00000000e+00+0.j,\n",
       "        0.00000000e+00+0.j,  0.00000000e+00+0.j,  2.62330836e-06+0.j,\n",
       "        3.31877327e-05+0.j,  1.24057635e-04+0.j,  5.75895882e-04+0.j,\n",
       "        1.55842202e-03+0.j,  2.62918398e-03+0.j,  4.82819474e-03+0.j,\n",
       "        1.13733788e-02+0.j,  2.73693735e-02+0.j,  5.50942456e-02+0.j,\n",
       "        8.04626298e-02+0.j,  6.73377384e-02+0.j,  5.60126361e-03+0.j,\n",
       "       -5.98878761e-02+0.j, -7.57350964e-02+0.j, -3.44876559e-02+0.j,\n",
       "        1.36295279e-02+0.j,  2.94571697e-02+0.j,  2.37724385e-02+0.j,\n",
       "        1.20775417e-02+0.j,  5.26100460e-03+0.j,  1.82099930e-03+0.j,\n",
       "        7.37058311e-04+0.j,  1.32356325e-04+0.j,  0.00000000e+00+0.j,\n",
       "        0.00000000e+00+0.j,  0.00000000e+00+0.j,  0.00000000e+00+0.j,\n",
       "        0.00000000e+00+0.j,  3.82263345e-05+0.j,  1.51591726e-04+0.j,\n",
       "        3.18738313e-04+0.j,  1.20736374e-03+0.j,  3.81802096e-03+0.j,\n",
       "        9.98522614e-03+0.j,  2.30965916e-02+0.j,  4.56428410e-02+0.j,\n",
       "        7.23965292e-02+0.j,  7.89646522e-02+0.j,  4.33436313e-02+0.j,\n",
       "       -2.11877928e-02+0.j, -7.20283855e-02+0.j, -7.55551798e-02+0.j,\n",
       "       -3.58410394e-02+0.j,  8.47579924e-03+0.j,  2.48516250e-02+0.j,\n",
       "        2.30724869e-02+0.j,  1.37325589e-02+0.j,  6.60048231e-03+0.j,\n",
       "        2.67899127e-03+0.j,  8.21073336e-04+0.j,  6.56591880e-05+0.j,\n",
       "        0.00000000e+00+0.j,  0.00000000e+00+0.j,  0.00000000e+00+0.j,\n",
       "        0.00000000e+00+0.j,  0.00000000e+00+0.j,  2.64430181e-05+0.j,\n",
       "        1.54373464e-04+0.j,  6.58494180e-04+0.j,  2.86286045e-03+0.j,\n",
       "        8.46260100e-03+0.j,  1.96260840e-02+0.j,  3.76100489e-02+0.j,\n",
       "        6.15670595e-02+0.j,  7.70674478e-02+0.j,  6.21813292e-02+0.j,\n",
       "        1.63892710e-02+0.j, -4.13096638e-02+0.j, -7.70068921e-02+0.j,\n",
       "       -7.38437240e-02+0.j, -3.78541200e-02+0.j,  2.93938295e-03+0.j,\n",
       "        2.14858520e-02+0.j,  2.30012350e-02+0.j,  1.53612910e-02+0.j,\n",
       "        8.27381061e-03+0.j,  3.46366335e-03+0.j,  8.66977375e-04+0.j,\n",
       "        1.14799463e-05+0.j,  0.00000000e+00+0.j,  0.00000000e+00+0.j,\n",
       "        0.00000000e+00+0.j,  0.00000000e+00+0.j,  0.00000000e+00+0.j,\n",
       "        0.00000000e+00+0.j,  1.77829691e-04+0.j,  1.41372551e-03+0.j,\n",
       "        4.81752291e-03+0.j,  1.24907999e-02+0.j,  2.75265340e-02+0.j,\n",
       "        4.74935172e-02+0.j,  6.70148938e-02+0.j,  7.04318625e-02+0.j,\n",
       "        4.38719932e-02+0.j, -2.38195610e-03+0.j, -4.71482282e-02+0.j,\n",
       "       -7.43768501e-02+0.j, -6.88948045e-02+0.j, -3.79537058e-02+0.j,\n",
       "       -1.67295054e-03+0.j,  1.87834942e-02+0.j,  2.16623811e-02+0.j,\n",
       "        1.50501596e-02+0.j,  8.06574373e-03+0.j,  3.41546919e-03+0.j,\n",
       "        5.86937039e-04+0.j, -3.41741857e-05+0.j,  0.00000000e+00+0.j,\n",
       "        0.00000000e+00+0.j,  0.00000000e+00+0.j,  0.00000000e+00+0.j,\n",
       "        9.39860580e-06+0.j,  0.00000000e+00+0.j,  2.38838618e-04+0.j,\n",
       "        1.62322083e-03+0.j,  4.38994760e-03+0.j,  1.13689542e-02+0.j,\n",
       "        2.50572658e-02+0.j,  4.07924440e-02+0.j,  5.33784639e-02+0.j,\n",
       "        4.95098639e-02+0.j,  2.40539464e-02+0.j, -1.12987435e-02+0.j,\n",
       "       -4.09668294e-02+0.j, -5.75844580e-02+0.j, -5.28830601e-02+0.j,\n",
       "       -3.12762327e-02+0.j, -5.45836241e-03+0.j,  1.08850840e-02+0.j,\n",
       "        1.43819661e-02+0.j,  1.00065942e-02+0.j,  4.44103237e-03+0.j,\n",
       "        2.01180530e-03+0.j,  3.90907522e-04+0.j, -1.91484983e-05+0.j,\n",
       "        0.00000000e+00+0.j,  0.00000000e+00+0.j,  0.00000000e+00+0.j,\n",
       "        0.00000000e+00+0.j,  0.00000000e+00+0.j,  4.84287589e-06+0.j,\n",
       "        1.34904341e-04+0.j,  4.36434413e-04+0.j,  1.38060413e-03+0.j,\n",
       "        2.60344536e-03+0.j,  5.84383985e-03+0.j,  9.06714739e-03+0.j,\n",
       "        1.08356165e-02+0.j,  8.83740362e-03+0.j,  1.53773618e-03+0.j,\n",
       "       -8.29086136e-03+0.j, -1.51294469e-02+0.j, -1.64582651e-02+0.j,\n",
       "       -1.54715922e-02+0.j, -1.03979712e-02+0.j, -3.80796747e-03+0.j,\n",
       "        2.12330834e-03+0.j,  4.35717581e-03+0.j,  2.26907020e-03+0.j,\n",
       "        5.79130153e-04+0.j,  1.00468613e-04+0.j,  6.03774159e-06+0.j,\n",
       "        0.00000000e+00+0.j,  0.00000000e+00+0.j,  0.00000000e+00+0.j,\n",
       "        0.00000000e+00+0.j,  0.00000000e+00+0.j,  0.00000000e+00+0.j,\n",
       "        0.00000000e+00+0.j,  0.00000000e+00+0.j,  0.00000000e+00+0.j,\n",
       "        1.10452799e-05+0.j,  6.27695177e-05+0.j,  5.86465288e-05+0.j,\n",
       "        6.07751399e-05+0.j,  4.72507540e-05+0.j,  9.49818951e-05+0.j,\n",
       "        6.73122641e-05+0.j, -1.53666185e-04+0.j, -4.27952830e-04+0.j,\n",
       "       -2.59740998e-04+0.j, -1.34249643e-04+0.j,  5.26567098e-05+0.j,\n",
       "        3.48995575e-05+0.j,  1.73935034e-04+0.j,  2.46620286e-04+0.j,\n",
       "        8.76016806e-05+0.j,  4.08503603e-05+0.j,  0.00000000e+00+0.j,\n",
       "        0.00000000e+00+0.j,  0.00000000e+00+0.j,  0.00000000e+00+0.j,\n",
       "        0.00000000e+00+0.j])"
      ]
     },
     "execution_count": 37,
     "metadata": {},
     "output_type": "execute_result"
    }
   ],
   "source": [
    "W_j[:,1]"
   ]
  },
  {
   "cell_type": "code",
   "execution_count": 38,
   "metadata": {},
   "outputs": [
    {
     "data": {
      "text/plain": [
       "array([ 0.00000000e+00+0.j,  0.00000000e+00+0.j,  0.00000000e+00+0.j,\n",
       "        0.00000000e+00+0.j,  0.00000000e+00+0.j,  0.00000000e+00+0.j,\n",
       "        0.00000000e+00+0.j,  0.00000000e+00+0.j,  0.00000000e+00+0.j,\n",
       "        0.00000000e+00+0.j,  0.00000000e+00+0.j,  0.00000000e+00+0.j,\n",
       "        0.00000000e+00+0.j,  0.00000000e+00+0.j,  0.00000000e+00+0.j,\n",
       "        0.00000000e+00+0.j,  0.00000000e+00+0.j,  0.00000000e+00+0.j,\n",
       "        0.00000000e+00+0.j,  0.00000000e+00+0.j,  0.00000000e+00+0.j,\n",
       "        0.00000000e+00+0.j,  0.00000000e+00+0.j,  0.00000000e+00+0.j,\n",
       "        0.00000000e+00+0.j,  0.00000000e+00+0.j,  0.00000000e+00+0.j,\n",
       "        0.00000000e+00+0.j,  0.00000000e+00+0.j,  0.00000000e+00+0.j,\n",
       "        0.00000000e+00+0.j,  0.00000000e+00+0.j,  0.00000000e+00+0.j,\n",
       "        0.00000000e+00+0.j,  0.00000000e+00+0.j,  0.00000000e+00+0.j,\n",
       "        0.00000000e+00+0.j,  0.00000000e+00+0.j,  0.00000000e+00+0.j,\n",
       "        0.00000000e+00+0.j,  0.00000000e+00+0.j,  0.00000000e+00+0.j,\n",
       "        0.00000000e+00+0.j,  0.00000000e+00+0.j,  0.00000000e+00+0.j,\n",
       "        0.00000000e+00+0.j,  0.00000000e+00+0.j,  0.00000000e+00+0.j,\n",
       "        0.00000000e+00+0.j,  0.00000000e+00+0.j,  0.00000000e+00+0.j,\n",
       "        0.00000000e+00+0.j,  0.00000000e+00+0.j,  0.00000000e+00+0.j,\n",
       "        0.00000000e+00+0.j,  0.00000000e+00+0.j,  0.00000000e+00+0.j,\n",
       "        0.00000000e+00+0.j,  0.00000000e+00+0.j,  0.00000000e+00+0.j,\n",
       "        0.00000000e+00+0.j,  0.00000000e+00+0.j,  0.00000000e+00+0.j,\n",
       "        0.00000000e+00+0.j,  0.00000000e+00+0.j,  0.00000000e+00+0.j,\n",
       "        0.00000000e+00+0.j,  0.00000000e+00+0.j,  0.00000000e+00+0.j,\n",
       "        0.00000000e+00+0.j,  0.00000000e+00+0.j,  0.00000000e+00+0.j,\n",
       "        0.00000000e+00+0.j,  0.00000000e+00+0.j,  0.00000000e+00+0.j,\n",
       "        0.00000000e+00+0.j,  0.00000000e+00+0.j,  0.00000000e+00+0.j,\n",
       "        0.00000000e+00+0.j,  0.00000000e+00+0.j,  0.00000000e+00+0.j,\n",
       "        0.00000000e+00+0.j,  0.00000000e+00+0.j,  0.00000000e+00+0.j,\n",
       "        0.00000000e+00+0.j,  0.00000000e+00+0.j,  0.00000000e+00+0.j,\n",
       "        0.00000000e+00+0.j,  0.00000000e+00+0.j,  0.00000000e+00+0.j,\n",
       "        0.00000000e+00+0.j,  0.00000000e+00+0.j,  0.00000000e+00+0.j,\n",
       "        0.00000000e+00+0.j,  0.00000000e+00+0.j,  0.00000000e+00+0.j,\n",
       "        0.00000000e+00+0.j,  0.00000000e+00+0.j,  0.00000000e+00+0.j,\n",
       "        0.00000000e+00+0.j,  0.00000000e+00+0.j, -8.20844364e-06+0.j,\n",
       "       -6.08171052e-05+0.j, -1.00739990e-05+0.j,  0.00000000e+00+0.j,\n",
       "        0.00000000e+00+0.j,  0.00000000e+00+0.j,  0.00000000e+00+0.j,\n",
       "        0.00000000e+00+0.j,  0.00000000e+00+0.j,  0.00000000e+00+0.j,\n",
       "        0.00000000e+00+0.j,  0.00000000e+00+0.j,  0.00000000e+00+0.j,\n",
       "        0.00000000e+00+0.j,  0.00000000e+00+0.j,  0.00000000e+00+0.j,\n",
       "        0.00000000e+00+0.j,  0.00000000e+00+0.j,  0.00000000e+00+0.j,\n",
       "        0.00000000e+00+0.j,  1.49322375e-06+0.j,  6.74955032e-05+0.j,\n",
       "       -8.39323600e-05+0.j, -2.30570820e-04+0.j, -2.42393701e-04+0.j,\n",
       "       -2.54330946e-04+0.j, -5.00125328e-05+0.j,  1.77359849e-04+0.j,\n",
       "        2.61603392e-04+0.j,  1.64073339e-04+0.j,  1.68950339e-04+0.j,\n",
       "        1.62423353e-04+0.j,  8.97808024e-06+0.j,  0.00000000e+00+0.j,\n",
       "        0.00000000e+00+0.j,  0.00000000e+00+0.j,  0.00000000e+00+0.j,\n",
       "        0.00000000e+00+0.j,  0.00000000e+00+0.j,  0.00000000e+00+0.j,\n",
       "        0.00000000e+00+0.j,  0.00000000e+00+0.j,  0.00000000e+00+0.j,\n",
       "        0.00000000e+00+0.j,  0.00000000e+00+0.j, -1.66749416e-06+0.j,\n",
       "        1.87429902e-05+0.j,  5.15031314e-05+0.j,  8.71035068e-05+0.j,\n",
       "        8.76443966e-05+0.j,  8.86860879e-05+0.j, -5.52675836e-04+0.j,\n",
       "       -2.41773238e-03+0.j, -2.62993389e-03+0.j,  1.43868340e-04+0.j,\n",
       "        4.59902744e-03+0.j,  8.08320302e-03+0.j,  8.16371525e-03+0.j,\n",
       "        5.65387888e-03+0.j,  3.46459253e-03+0.j,  1.85233866e-03+0.j,\n",
       "        6.56905944e-04+0.j,  3.48591036e-05+0.j,  0.00000000e+00+0.j,\n",
       "        0.00000000e+00+0.j,  0.00000000e+00+0.j,  0.00000000e+00+0.j,\n",
       "        0.00000000e+00+0.j,  0.00000000e+00+0.j,  0.00000000e+00+0.j,\n",
       "        0.00000000e+00+0.j,  6.66951674e-06+0.j,  2.60287805e-05+0.j,\n",
       "        3.32423322e-04+0.j,  7.02587669e-04+0.j,  1.47988430e-03+0.j,\n",
       "        2.96219224e-03+0.j,  2.05780121e-03+0.j, -7.25481177e-03+0.j,\n",
       "       -2.18800767e-02+0.j, -3.25026946e-02+0.j, -2.73463979e-02+0.j,\n",
       "       -1.47174617e-03+0.j,  3.74929085e-02+0.j,  7.11700961e-02+0.j,\n",
       "        8.40863568e-02+0.j,  6.85499698e-02+0.j,  4.27448574e-02+0.j,\n",
       "        2.00251773e-02+0.j,  6.78932261e-03+0.j,  1.61655488e-03+0.j,\n",
       "        2.15826491e-04+0.j,  5.81161676e-05+0.j,  0.00000000e+00+0.j,\n",
       "        0.00000000e+00+0.j,  0.00000000e+00+0.j,  0.00000000e+00+0.j,\n",
       "        0.00000000e+00+0.j,  3.10049978e-06+0.j,  1.26793327e-05+0.j,\n",
       "        3.23945425e-04+0.j,  1.61404335e-03+0.j,  4.69498009e-03+0.j,\n",
       "        8.53288030e-03+0.j,  6.87059828e-03+0.j, -5.71453518e-03+0.j,\n",
       "       -2.78571673e-02+0.j, -4.02238460e-02+0.j, -3.26447375e-02+0.j,\n",
       "       -1.16800294e-02+0.j,  1.18635101e-02+0.j,  4.00939437e-02+0.j,\n",
       "        8.24194788e-02+0.j,  1.18989710e-01+0.j,  1.19425547e-01+0.j,\n",
       "        8.86389581e-02+0.j,  4.88657178e-02+0.j,  1.86215207e-02+0.j,\n",
       "        5.81273629e-03+0.j,  1.23060085e-03+0.j,  1.29816167e-04+0.j,\n",
       "        0.00000000e+00+0.j,  0.00000000e+00+0.j,  0.00000000e+00+0.j,\n",
       "        0.00000000e+00+0.j,  1.70972347e-07+0.j,  7.09595570e-06+0.j,\n",
       "        3.12735042e-04+0.j,  1.85442097e-03+0.j,  6.92098431e-03+0.j,\n",
       "        1.37732269e-02+0.j,  1.55515638e-02+0.j,  7.50570991e-03+0.j,\n",
       "       -1.24139370e-02+0.j, -1.99878227e-02+0.j, -1.48218508e-03+0.j,\n",
       "        2.80382232e-02+0.j,  3.96859939e-02+0.j,  2.45604104e-02+0.j,\n",
       "        3.98424849e-03+0.j,  2.00670953e-02+0.j,  7.79381594e-02+0.j,\n",
       "        1.23605023e-01+0.j,  1.14981012e-01+0.j,  7.47056746e-02+0.j,\n",
       "        3.23736426e-02+0.j,  9.32400923e-03+0.j,  2.50868459e-03+0.j,\n",
       "        3.27945029e-04+0.j,  0.00000000e+00+0.j,  0.00000000e+00+0.j,\n",
       "        0.00000000e+00+0.j,  0.00000000e+00+0.j,  5.47111512e-06+0.j,\n",
       "        6.57927455e-05+0.j,  1.34323298e-03+0.j,  6.36188472e-03+0.j,\n",
       "        1.68322623e-02+0.j,  2.59374288e-02+0.j,  2.48570332e-02+0.j,\n",
       "        9.47641706e-03+0.j, -4.65384548e-03+0.j,  1.07414195e-02+0.j,\n",
       "        4.36299469e-02+0.j,  6.12668015e-02+0.j,  4.32576159e-02+0.j,\n",
       "       -3.47116435e-03+0.j, -5.25150752e-02+0.j, -5.34301188e-02+0.j,\n",
       "        2.26844301e-02+0.j,  1.08991126e-01+0.j,  1.26662396e-01+0.j,\n",
       "        8.80726909e-02+0.j,  3.99603020e-02+0.j,  1.19702528e-02+0.j,\n",
       "        2.63215603e-03+0.j,  3.38046304e-04+0.j,  0.00000000e+00+0.j,\n",
       "        0.00000000e+00+0.j,  0.00000000e+00+0.j,  0.00000000e+00+0.j,\n",
       "        3.11057293e-06+0.j,  3.38821487e-04+0.j,  4.24484622e-03+0.j,\n",
       "        1.49322652e-02+0.j,  3.03212435e-02+0.j,  3.98781865e-02+0.j,\n",
       "        3.26526463e-02+0.j,  1.16605193e-02+0.j,  3.16460503e-03+0.j,\n",
       "        2.41555217e-02+0.j,  4.42916776e-02+0.j,  3.65692425e-02+0.j,\n",
       "        5.99335895e-03+0.j, -4.42703921e-02+0.j, -9.77748074e-02+0.j,\n",
       "       -9.35785532e-02+0.j,  3.97303336e-03+0.j,  1.11417504e-01+0.j,\n",
       "        1.36626230e-01+0.j,  9.33441634e-02+0.j,  4.17959593e-02+0.j,\n",
       "        1.23310476e-02+0.j,  2.41978429e-03+0.j,  5.04087419e-04+0.j,\n",
       "       -4.75694380e-06+0.j,  0.00000000e+00+0.j,  0.00000000e+00+0.j,\n",
       "        0.00000000e+00+0.j,  4.36595308e-05+0.j,  1.11964310e-03+0.j,\n",
       "        8.25791333e-03+0.j,  2.45939928e-02+0.j,  4.47962551e-02+0.j,\n",
       "        5.58604682e-02+0.j,  3.75772960e-02+0.j,  6.40413922e-03+0.j,\n",
       "       -5.38345090e-03+0.j,  7.95355420e-03+0.j,  1.49509994e-02+0.j,\n",
       "        6.55668105e-04+0.j, -2.65085146e-02+0.j, -7.75007917e-02+0.j,\n",
       "       -1.22043094e-01+0.j, -9.09030412e-02+0.j,  2.64803022e-02+0.j,\n",
       "        1.35669651e-01+0.j,  1.47307359e-01+0.j,  8.96654867e-02+0.j,\n",
       "        3.73139007e-02+0.j,  1.01797855e-02+0.j,  1.44668440e-03+0.j,\n",
       "        2.32742771e-04+0.j, -1.06670861e-05+0.j,  0.00000000e+00+0.j,\n",
       "        0.00000000e+00+0.j,  0.00000000e+00+0.j,  1.42303228e-04+0.j,\n",
       "        2.72096183e-03+0.j,  1.31084514e-02+0.j,  3.31026535e-02+0.j,\n",
       "        5.97313079e-02+0.j,  7.15859170e-02+0.j,  3.87039026e-02+0.j,\n",
       "       -1.44137768e-02+0.j, -3.36411284e-02+0.j, -2.28023924e-02+0.j,\n",
       "       -1.86124185e-02+0.j, -3.25106014e-02+0.j, -6.19342018e-02+0.j,\n",
       "       -1.00916046e-01+0.j, -1.11708815e-01+0.j, -5.10275629e-02+0.j,\n",
       "        7.02055568e-02+0.j,  1.56056261e-01+0.j,  1.38272999e-01+0.j,\n",
       "        7.26235045e-02+0.j,  2.76676667e-02+0.j,  7.33841794e-03+0.j,\n",
       "        6.14692041e-04+0.j,  1.28921375e-05+0.j,  0.00000000e+00+0.j,\n",
       "        0.00000000e+00+0.j,  0.00000000e+00+0.j,  0.00000000e+00+0.j,\n",
       "        1.84864415e-04+0.j,  3.27760528e-03+0.j,  1.59707533e-02+0.j,\n",
       "        4.02507393e-02+0.j,  7.34843898e-02+0.j,  8.62246686e-02+0.j,\n",
       "        4.39891672e-02+0.j, -2.79197110e-02+0.j, -6.08309728e-02+0.j,\n",
       "       -5.63738863e-02+0.j, -5.42903127e-02+0.j, -6.32111183e-02+0.j,\n",
       "       -7.51815663e-02+0.j, -7.83993116e-02+0.j, -6.43265429e-02+0.j,\n",
       "       -2.99751839e-03+0.j,  1.05576845e-01+0.j,  1.55739855e-01+0.j,\n",
       "        1.12722094e-01+0.j,  5.04892041e-02+0.j,  1.68319500e-02+0.j,\n",
       "        4.32423213e-03+0.j,  2.99060732e-04+0.j,  1.14270203e-04+0.j,\n",
       "        2.91276989e-05+0.j,  0.00000000e+00+0.j,  0.00000000e+00+0.j,\n",
       "        0.00000000e+00+0.j,  1.26531751e-04+0.j,  3.13112613e-03+0.j,\n",
       "        1.66958630e-02+0.j,  4.18479405e-02+0.j,  7.83649246e-02+0.j,\n",
       "        9.84187912e-02+0.j,  6.33707536e-02+0.j, -9.43636008e-03+0.j,\n",
       "       -5.42606329e-02+0.j, -5.80032663e-02+0.j, -5.19654717e-02+0.j,\n",
       "       -4.39667970e-02+0.j, -2.58302679e-02+0.j, -1.69286222e-02+0.j,\n",
       "       -1.83864694e-02+0.j,  2.66932388e-02+0.j,  1.15664390e-01+0.j,\n",
       "        1.33342877e-01+0.j,  7.88796566e-02+0.j,  3.08729779e-02+0.j,\n",
       "        9.51272347e-03+0.j,  2.59954887e-03+0.j,  1.42647513e-04+0.j,\n",
       "        1.26593460e-04+0.j,  3.47291794e-05+0.j,  0.00000000e+00+0.j,\n",
       "        0.00000000e+00+0.j,  0.00000000e+00+0.j,  3.80628500e-05+0.j,\n",
       "        2.66446587e-03+0.j,  1.40030458e-02+0.j,  3.67216910e-02+0.j,\n",
       "        7.30829925e-02+0.j,  1.04411030e-01+0.j,  9.41544898e-02+0.j,\n",
       "        4.62968140e-02+0.j,  9.26210681e-03+0.j, -8.25130272e-05+0.j,\n",
       "        7.28885513e-03+0.j,  2.52187129e-02+0.j,  4.30233830e-02+0.j,\n",
       "        2.79078160e-02+0.j,  2.02249409e-03+0.j,  3.63048169e-02+0.j,\n",
       "        1.03318552e-01+0.j,  9.88924185e-02+0.j,  5.24095002e-02+0.j,\n",
       "        1.95444907e-02+0.j,  6.68890413e-03+0.j,  1.78305142e-03+0.j,\n",
       "        6.84069883e-05+0.j,  1.26593460e-04+0.j,  4.33802202e-05+0.j,\n",
       "        0.00000000e+00+0.j,  0.00000000e+00+0.j,  0.00000000e+00+0.j,\n",
       "        9.03186271e-06+0.j,  1.65411265e-03+0.j,  9.14098352e-03+0.j,\n",
       "        2.66563003e-02+0.j,  5.54666839e-02+0.j,  8.99515991e-02+0.j,\n",
       "        1.06830120e-01+0.j,  9.30424140e-02+0.j,  7.28977888e-02+0.j,\n",
       "        6.35840468e-02+0.j,  6.64621113e-02+0.j,  7.64947063e-02+0.j,\n",
       "        7.77242673e-02+0.j,  3.94833656e-02+0.j,  3.73139258e-03+0.j,\n",
       "        2.81905116e-02+0.j,  7.42088104e-02+0.j,  6.87044975e-02+0.j,\n",
       "        3.72959752e-02+0.j,  1.47522727e-02+0.j,  5.74551787e-03+0.j,\n",
       "        1.34456911e-03+0.j,  6.90760335e-05+0.j,  2.99034896e-05+0.j,\n",
       "        1.96051819e-05+0.j,  0.00000000e+00+0.j,  0.00000000e+00+0.j,\n",
       "        0.00000000e+00+0.j,  1.05708652e-05+0.j,  7.69020031e-04+0.j,\n",
       "        4.60808387e-03+0.j,  1.40830586e-02+0.j,  3.19434283e-02+0.j,\n",
       "        5.73983464e-02+0.j,  7.84000413e-02+0.j,  8.57442305e-02+0.j,\n",
       "        8.20387946e-02+0.j,  7.61139312e-02+0.j,  7.37518326e-02+0.j,\n",
       "        8.18881311e-02+0.j,  7.93028032e-02+0.j,  3.26589525e-02+0.j,\n",
       "       -1.06276989e-02+0.j,  6.64221531e-03+0.j,  4.78692873e-02+0.j,\n",
       "        5.19556405e-02+0.j,  3.14345027e-02+0.j,  1.29954656e-02+0.j,\n",
       "        4.62765989e-03+0.j,  1.35097290e-03+0.j,  1.20528466e-04+0.j,\n",
       "       -5.34750587e-06+0.j,  0.00000000e+00+0.j,  0.00000000e+00+0.j,\n",
       "       -3.10607597e-06+0.j,  0.00000000e+00+0.j,  2.44090888e-05+0.j,\n",
       "        4.75659496e-04+0.j,  2.48057505e-03+0.j,  6.51922374e-03+0.j,\n",
       "        1.47739980e-02+0.j,  2.60636025e-02+0.j,  3.83547836e-02+0.j,\n",
       "        4.71667189e-02+0.j,  5.04639216e-02+0.j,  5.15844528e-02+0.j,\n",
       "        5.81712968e-02+0.j,  7.85784902e-02+0.j,  7.10383868e-02+0.j,\n",
       "        1.39296150e-02+0.j, -3.32582910e-02+0.j, -1.63893810e-02+0.j,\n",
       "        3.16796233e-02+0.j,  4.35964733e-02+0.j,  2.84808215e-02+0.j,\n",
       "        1.22581970e-02+0.j,  4.32447301e-03+0.j,  1.44920660e-03+0.j,\n",
       "        1.50727010e-04+0.j,  1.76408767e-04+0.j,  0.00000000e+00+0.j,\n",
       "        0.00000000e+00+0.j,  0.00000000e+00+0.j,  0.00000000e+00+0.j,\n",
       "        0.00000000e+00+0.j,  3.59023274e-04+0.j,  9.30802953e-04+0.j,\n",
       "        2.70406659e-03+0.j,  6.00333049e-03+0.j,  9.61591269e-03+0.j,\n",
       "        1.43621033e-02+0.j,  1.87009588e-02+0.j,  2.30471364e-02+0.j,\n",
       "        3.26973238e-02+0.j,  5.63403074e-02+0.j,  7.89893080e-02+0.j,\n",
       "        5.70914586e-02+0.j, -1.27763235e-02+0.j, -5.60051338e-02+0.j,\n",
       "       -3.11917167e-02+0.j,  2.30703888e-02+0.j,  3.82541433e-02+0.j,\n",
       "        2.62958375e-02+0.j,  1.12903093e-02+0.j,  4.10760042e-03+0.j,\n",
       "        1.43241871e-03+0.j,  2.95705496e-04+0.j,  2.42523703e-04+0.j,\n",
       "        0.00000000e+00+0.j,  0.00000000e+00+0.j,  0.00000000e+00+0.j,\n",
       "        0.00000000e+00+0.j,  1.46655490e-05+0.j,  1.68029805e-04+0.j,\n",
       "        4.90103654e-04+0.j,  1.31669293e-03+0.j,  2.57795140e-03+0.j,\n",
       "        3.41924828e-03+0.j,  5.30192776e-03+0.j,  8.22635502e-03+0.j,\n",
       "        1.65253622e-02+0.j,  3.81994317e-02+0.j,  6.89849989e-02+0.j,\n",
       "        7.84703123e-02+0.j,  3.49095039e-02+0.j, -3.97784128e-02+0.j,\n",
       "       -7.18449716e-02+0.j, -3.45610948e-02+0.j,  1.83659797e-02+0.j,\n",
       "        3.44443797e-02+0.j,  2.43411996e-02+0.j,  1.15604518e-02+0.j,\n",
       "        4.35596118e-03+0.j,  1.53087805e-03+0.j,  4.94208571e-04+0.j,\n",
       "        2.60905620e-04+0.j,  0.00000000e+00+0.j,  0.00000000e+00+0.j,\n",
       "        0.00000000e+00+0.j,  0.00000000e+00+0.j,  2.62330836e-06+0.j,\n",
       "        3.31877327e-05+0.j,  1.24057635e-04+0.j,  5.75895882e-04+0.j,\n",
       "        1.55842202e-03+0.j,  2.62918398e-03+0.j,  4.82819474e-03+0.j,\n",
       "        1.13733788e-02+0.j,  2.73693735e-02+0.j,  5.50942456e-02+0.j,\n",
       "        8.04626298e-02+0.j,  6.73377384e-02+0.j,  5.60126361e-03+0.j,\n",
       "       -5.98878761e-02+0.j, -7.57350964e-02+0.j, -3.44876559e-02+0.j,\n",
       "        1.36295279e-02+0.j,  2.94571697e-02+0.j,  2.37724385e-02+0.j,\n",
       "        1.20775417e-02+0.j,  5.26100460e-03+0.j,  1.82099930e-03+0.j,\n",
       "        7.37058311e-04+0.j,  1.32356325e-04+0.j,  0.00000000e+00+0.j,\n",
       "        0.00000000e+00+0.j,  0.00000000e+00+0.j,  0.00000000e+00+0.j,\n",
       "        0.00000000e+00+0.j,  3.82263345e-05+0.j,  1.51591726e-04+0.j,\n",
       "        3.18738313e-04+0.j,  1.20736374e-03+0.j,  3.81802096e-03+0.j,\n",
       "        9.98522614e-03+0.j,  2.30965916e-02+0.j,  4.56428410e-02+0.j,\n",
       "        7.23965292e-02+0.j,  7.89646522e-02+0.j,  4.33436313e-02+0.j,\n",
       "       -2.11877928e-02+0.j, -7.20283855e-02+0.j, -7.55551798e-02+0.j,\n",
       "       -3.58410394e-02+0.j,  8.47579924e-03+0.j,  2.48516250e-02+0.j,\n",
       "        2.30724869e-02+0.j,  1.37325589e-02+0.j,  6.60048231e-03+0.j,\n",
       "        2.67899127e-03+0.j,  8.21073336e-04+0.j,  6.56591880e-05+0.j,\n",
       "        0.00000000e+00+0.j,  0.00000000e+00+0.j,  0.00000000e+00+0.j,\n",
       "        0.00000000e+00+0.j,  0.00000000e+00+0.j,  2.64430181e-05+0.j,\n",
       "        1.54373464e-04+0.j,  6.58494180e-04+0.j,  2.86286045e-03+0.j,\n",
       "        8.46260100e-03+0.j,  1.96260840e-02+0.j,  3.76100489e-02+0.j,\n",
       "        6.15670595e-02+0.j,  7.70674478e-02+0.j,  6.21813292e-02+0.j,\n",
       "        1.63892710e-02+0.j, -4.13096638e-02+0.j, -7.70068921e-02+0.j,\n",
       "       -7.38437240e-02+0.j, -3.78541200e-02+0.j,  2.93938295e-03+0.j,\n",
       "        2.14858520e-02+0.j,  2.30012350e-02+0.j,  1.53612910e-02+0.j,\n",
       "        8.27381061e-03+0.j,  3.46366335e-03+0.j,  8.66977375e-04+0.j,\n",
       "        1.14799463e-05+0.j,  0.00000000e+00+0.j,  0.00000000e+00+0.j,\n",
       "        0.00000000e+00+0.j,  0.00000000e+00+0.j,  0.00000000e+00+0.j,\n",
       "        0.00000000e+00+0.j,  1.77829691e-04+0.j,  1.41372551e-03+0.j,\n",
       "        4.81752291e-03+0.j,  1.24907999e-02+0.j,  2.75265340e-02+0.j,\n",
       "        4.74935172e-02+0.j,  6.70148938e-02+0.j,  7.04318625e-02+0.j,\n",
       "        4.38719932e-02+0.j, -2.38195610e-03+0.j, -4.71482282e-02+0.j,\n",
       "       -7.43768501e-02+0.j, -6.88948045e-02+0.j, -3.79537058e-02+0.j,\n",
       "       -1.67295054e-03+0.j,  1.87834942e-02+0.j,  2.16623811e-02+0.j,\n",
       "        1.50501596e-02+0.j,  8.06574373e-03+0.j,  3.41546919e-03+0.j,\n",
       "        5.86937039e-04+0.j, -3.41741857e-05+0.j,  0.00000000e+00+0.j,\n",
       "        0.00000000e+00+0.j,  0.00000000e+00+0.j,  0.00000000e+00+0.j,\n",
       "        9.39860580e-06+0.j,  0.00000000e+00+0.j,  2.38838618e-04+0.j,\n",
       "        1.62322083e-03+0.j,  4.38994760e-03+0.j,  1.13689542e-02+0.j,\n",
       "        2.50572658e-02+0.j,  4.07924440e-02+0.j,  5.33784639e-02+0.j,\n",
       "        4.95098639e-02+0.j,  2.40539464e-02+0.j, -1.12987435e-02+0.j,\n",
       "       -4.09668294e-02+0.j, -5.75844580e-02+0.j, -5.28830601e-02+0.j,\n",
       "       -3.12762327e-02+0.j, -5.45836241e-03+0.j,  1.08850840e-02+0.j,\n",
       "        1.43819661e-02+0.j,  1.00065942e-02+0.j,  4.44103237e-03+0.j,\n",
       "        2.01180530e-03+0.j,  3.90907522e-04+0.j, -1.91484983e-05+0.j,\n",
       "        0.00000000e+00+0.j,  0.00000000e+00+0.j,  0.00000000e+00+0.j,\n",
       "        0.00000000e+00+0.j,  0.00000000e+00+0.j,  4.84287589e-06+0.j,\n",
       "        1.34904341e-04+0.j,  4.36434413e-04+0.j,  1.38060413e-03+0.j,\n",
       "        2.60344536e-03+0.j,  5.84383985e-03+0.j,  9.06714739e-03+0.j,\n",
       "        1.08356165e-02+0.j,  8.83740362e-03+0.j,  1.53773618e-03+0.j,\n",
       "       -8.29086136e-03+0.j, -1.51294469e-02+0.j, -1.64582651e-02+0.j,\n",
       "       -1.54715922e-02+0.j, -1.03979712e-02+0.j, -3.80796747e-03+0.j,\n",
       "        2.12330834e-03+0.j,  4.35717581e-03+0.j,  2.26907020e-03+0.j,\n",
       "        5.79130153e-04+0.j,  1.00468613e-04+0.j,  6.03774159e-06+0.j,\n",
       "        0.00000000e+00+0.j,  0.00000000e+00+0.j,  0.00000000e+00+0.j,\n",
       "        0.00000000e+00+0.j,  0.00000000e+00+0.j,  0.00000000e+00+0.j,\n",
       "        0.00000000e+00+0.j,  0.00000000e+00+0.j,  0.00000000e+00+0.j,\n",
       "        1.10452799e-05+0.j,  6.27695177e-05+0.j,  5.86465288e-05+0.j,\n",
       "        6.07751399e-05+0.j,  4.72507540e-05+0.j,  9.49818951e-05+0.j,\n",
       "        6.73122641e-05+0.j, -1.53666185e-04+0.j, -4.27952830e-04+0.j,\n",
       "       -2.59740998e-04+0.j, -1.34249643e-04+0.j,  5.26567098e-05+0.j,\n",
       "        3.48995575e-05+0.j,  1.73935034e-04+0.j,  2.46620286e-04+0.j,\n",
       "        8.76016806e-05+0.j,  4.08503603e-05+0.j,  0.00000000e+00+0.j,\n",
       "        0.00000000e+00+0.j,  0.00000000e+00+0.j,  0.00000000e+00+0.j,\n",
       "        0.00000000e+00+0.j])"
      ]
     },
     "execution_count": 38,
     "metadata": {},
     "output_type": "execute_result"
    }
   ],
   "source": [
    "eig_pairs[1][1]"
   ]
  },
  {
   "cell_type": "code",
   "execution_count": 39,
   "metadata": {},
   "outputs": [],
   "source": [
    "data_tranformed_j_9= W_j.T.dot(traindata.T)"
   ]
  },
  {
   "cell_type": "code",
   "execution_count": 40,
   "metadata": {},
   "outputs": [
    {
     "data": {
      "text/plain": [
       "(5949, 2)"
      ]
     },
     "execution_count": 40,
     "metadata": {},
     "output_type": "execute_result"
    }
   ],
   "source": [
    "np.shape(data_tranformed_j_9.T)"
   ]
  },
  {
   "cell_type": "code",
   "execution_count": 41,
   "metadata": {},
   "outputs": [
    {
     "data": {
      "text/plain": [
       "array([[328.30853498+0.j, 842.48380327+0.j, 624.18677955+0.j, ...,\n",
       "        754.6899828 +0.j, 629.76326346+0.j, 592.87195826+0.j],\n",
       "       [269.78823348+0.j, 470.15112869+0.j, 643.29210626+0.j, ...,\n",
       "        794.55679107+0.j, 670.94273596+0.j, 618.15102624+0.j]])"
      ]
     },
     "execution_count": 41,
     "metadata": {},
     "output_type": "execute_result"
    }
   ],
   "source": [
    "data_tranformed_j_9"
   ]
  },
  {
   "cell_type": "markdown",
   "metadata": {},
   "source": [
    "Class_7"
   ]
  },
  {
   "cell_type": "code",
   "execution_count": 42,
   "metadata": {},
   "outputs": [],
   "source": [
    "trainlabel1=[]\n",
    "for i in range(len(datalabel)):\n",
    "    if datalabel[i] == 7:\n",
    "        trainlabel1.append(i)"
   ]
  },
  {
   "cell_type": "code",
   "execution_count": 43,
   "metadata": {},
   "outputs": [],
   "source": [
    "traindata1=np.array([])"
   ]
  },
  {
   "cell_type": "code",
   "execution_count": 44,
   "metadata": {},
   "outputs": [],
   "source": [
    "for i in range(60000):\n",
    "    if datalabel[i] == 7 :\n",
    "        traindata1=np.append(traindata1, data[i,:])"
   ]
  },
  {
   "cell_type": "code",
   "execution_count": 45,
   "metadata": {},
   "outputs": [],
   "source": [
    "traindata1=traindata1.reshape(len(trainlabel1),image_size*image_size)"
   ]
  },
  {
   "cell_type": "code",
   "execution_count": 46,
   "metadata": {},
   "outputs": [],
   "source": [
    "mean1 = np.array([])"
   ]
  },
  {
   "cell_type": "code",
   "execution_count": 47,
   "metadata": {},
   "outputs": [],
   "source": [
    "for i in range(image_size*image_size):\n",
    "    mean1=np.append(mean1,[np.mean(traindata1[:,i])])"
   ]
  },
  {
   "cell_type": "code",
   "execution_count": 48,
   "metadata": {},
   "outputs": [],
   "source": [
    "mean1=mean1.reshape(image_size*image_size,1)"
   ]
  },
  {
   "cell_type": "code",
   "execution_count": 49,
   "metadata": {},
   "outputs": [],
   "source": [
    "##different method for variance(up to multiplication)\n",
    "\n",
    "variance1 = np.zeros((image_size*image_size,image_size*image_size))\n",
    "for i in range(len(trainlabel1)):\n",
    "    variance1 += (traindata1[i,:].reshape(image_size*image_size,1) - mean1).dot((traindata1[i,:].reshape(image_size*image_size,1) - mean1).T)"
   ]
  },
  {
   "cell_type": "code",
   "execution_count": 50,
   "metadata": {},
   "outputs": [],
   "source": [
    "variance1=1/60000*variance1"
   ]
  },
  {
   "cell_type": "code",
   "execution_count": 51,
   "metadata": {},
   "outputs": [],
   "source": [
    "eigval1, eigvec1 = np.linalg.eig(variance1)\n"
   ]
  },
  {
   "cell_type": "code",
   "execution_count": 52,
   "metadata": {},
   "outputs": [
    {
     "data": {
      "text/plain": [
       "(40915.973681179865+0j)"
      ]
     },
     "execution_count": 52,
     "metadata": {},
     "output_type": "execute_result"
    }
   ],
   "source": [
    "eigval1[0]"
   ]
  },
  {
   "cell_type": "code",
   "execution_count": 53,
   "metadata": {},
   "outputs": [],
   "source": [
    "eig_pairs1 = [(np.abs(eigval1[i]), eigvec1[:,i]) for i in range(len(eigval1))]\n",
    "\n",
    "eig_pairs1.sort(key=lambda x: x[0], reverse=True)\n",
    "\n"
   ]
  },
  {
   "cell_type": "code",
   "execution_count": 54,
   "metadata": {},
   "outputs": [],
   "source": [
    "x=np.linspace(0,784,784)\n",
    "y1=eigval1.tolist()\n",
    "\n",
    "z1 =[]\n",
    "a1=[eig_pairs1[i][0] for i in range(image_size*image_size)]\n",
    "b1= sum([eig_pairs1[i][0] for i in range(image_size*image_size)])\n",
    "    "
   ]
  },
  {
   "cell_type": "code",
   "execution_count": 55,
   "metadata": {},
   "outputs": [],
   "source": [
    "\n",
    "for i in range(image_size*image_size):\n",
    "    z1.append(sum(a1[0:i]))"
   ]
  },
  {
   "cell_type": "code",
   "execution_count": 56,
   "metadata": {},
   "outputs": [
    {
     "data": {
      "image/png": "[encoded data removed]",
      "text/plain": [
       "<Figure size 432x288 with 1 Axes>"
      ]
     },
     "metadata": {
      "needs_background": "light"
     },
     "output_type": "display_data"
    }
   ],
   "source": [
    "\n",
    "plt.plot(x, y1 , color='green',label='class_7')\n",
    "plt.xlabel('number')\n",
    "plt.ylabel('eigen_val')\n",
    "plt.legend()\n",
    "\n",
    "plt.show()\n"
   ]
  },
  {
   "cell_type": "code",
   "execution_count": 57,
   "metadata": {},
   "outputs": [
    {
     "data": {
      "image/png": "[encoded data removed]",
      "text/plain": [
       "<Figure size 432x288 with 1 Axes>"
      ]
     },
     "metadata": {
      "needs_background": "light"
     },
     "output_type": "display_data"
    }
   ],
   "source": [
    "\n",
    "plt.plot(x, z1 , color='red',label='class_7')\n",
    "plt.xlabel('number')\n",
    "plt.ylabel('capture_val')\n",
    "plt.legend()\n",
    "\n",
    "plt.show()"
   ]
  },
  {
   "cell_type": "code",
   "execution_count": 58,
   "metadata": {},
   "outputs": [],
   "source": [
    "W_j_7 = np.hstack((eig_pairs1[0][1].reshape(image_size*image_size,1), eig_pairs1[1][1].reshape(image_size*image_size,1)))"
   ]
  },
  {
   "cell_type": "code",
   "execution_count": 60,
   "metadata": {},
   "outputs": [],
   "source": [
    "data_tranformed_j_7= W_j_7.T.dot(traindata1.T)"
   ]
  },
  {
   "cell_type": "code",
   "execution_count": 61,
   "metadata": {},
   "outputs": [
    {
     "data": {
      "text/plain": [
       "array([[ 648.28714801+0.j,  390.15892896+0.j, -138.56955908+0.j, ...,\n",
       "         774.1737905 +0.j,  774.30679971+0.j,  286.12831641+0.j],\n",
       "       [1469.68654623+0.j,  601.90971465+0.j, -239.76944925+0.j, ...,\n",
       "        1003.46019056+0.j,  390.96173396+0.j, 1411.31403153+0.j]])"
      ]
     },
     "execution_count": 61,
     "metadata": {},
     "output_type": "execute_result"
    }
   ],
   "source": [
    "data_tranformed_j_7"
   ]
  },
  {
   "cell_type": "code",
   "execution_count": 73,
   "metadata": {},
   "outputs": [
    {
     "data": {
      "image/png": "[encoded data removed]",
      "text/plain": [
       "<Figure size 432x288 with 1 Axes>"
      ]
     },
     "metadata": {
      "needs_background": "light"
     },
     "output_type": "display_data"
    }
   ],
   "source": [
    "plt.plot(data_tranformed_j_7[0,0:1000], data_tranformed_j_7[1,0:1000], 'o', markersize=5, color='blue', alpha=0.5, label='class7')\n",
    "plt.plot(data_tranformed_j_9[0,0:1000], data_tranformed_j_9[1,0:1000], '^', markersize=5, color='red', alpha=0.5, label='class9')\n",
    "plt.xlim([-2000,2000])\n",
    "plt.ylim([-2000,2000])\n",
    "plt.xlabel('x_values')\n",
    "plt.ylabel('y_values')\n",
    "plt.legend()\n",
    "plt.title('Transformed samples with class labels')\n",
    "\n",
    "plt.show()"
   ]
  },
  {
   "cell_type": "markdown",
   "metadata": {},
   "source": [
    "Using PCA, we can't classify digit 7 and digit 9."
   ]
  },
  {
   "cell_type": "markdown",
   "metadata": {},
   "source": [
    "\n",
    "So we need other tecniques.\n",
    "In short, one use PCA only for datacompressing for an analysis."
   ]
  },
  {
   "cell_type": "code",
   "execution_count": null,
   "metadata": {},
   "outputs": [],
   "source": []
  }
 ],
 "metadata": {
  "kernelspec": {
   "display_name": "Python 3",
   "language": "python",
   "name": "python3"
  },
  "language_info": {
   "codemirror_mode": {
    "name": "ipython",
    "version": 3
   },
   "file_extension": ".py",
   "mimetype": "text/x-python",
   "name": "python",
   "nbconvert_exporter": "python",
   "pygments_lexer": "ipython3",
   "version": "3.7.1"
  }
 },
 "nbformat": 4,
 "nbformat_minor": 2
}
